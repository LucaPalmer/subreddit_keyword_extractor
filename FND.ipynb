{
 "cells": [
  {
   "cell_type": "markdown",
   "metadata": {},
   "source": [
    "### Reddit Fake News Detector Project"
   ]
  },
  {
   "cell_type": "markdown",
   "metadata": {},
   "source": [
    "This project is another personal project of mine."
   ]
  },
  {
   "cell_type": "code",
   "execution_count": 1,
   "metadata": {},
   "outputs": [
    {
     "data": {
      "text/plain": [
       "'\\n#pip install praw \\n\\nNOTE: We install praw specifically using pip here because Conda version is\\noutdated. A seperate Conda environment was created to avoid package management issues.\\n'"
      ]
     },
     "execution_count": 1,
     "metadata": {},
     "output_type": "execute_result"
    }
   ],
   "source": [
    "'''\n",
    "#pip install praw \n",
    "\n",
    "NOTE: We install praw specifically using pip here because Conda version is\n",
    "outdated. A seperate Conda environment was created to avoid package management issues.\n",
    "'''"
   ]
  },
  {
   "cell_type": "code",
   "execution_count": 2,
   "metadata": {},
   "outputs": [],
   "source": [
    "import random #import these packages for the following praw program in the next cell\n",
    "import socket\n",
    "import sys\n",
    "\n",
    "import time #import time to assign a counter to the incoming subreddit stream\n",
    "import praw as praw #import praw package for streaming content from Reddit"
   ]
  },
  {
   "cell_type": "code",
   "execution_count": 3,
   "metadata": {},
   "outputs": [
    {
     "name": "stdout",
     "output_type": "stream",
     "text": [
      "Go here while logged into the account you want to create a token for: https://www.reddit.com/prefs/apps/\n",
      "Click the create an app button. Put something in the name field and select the script radio button.\n",
      "Put http://localhost:8080 in the redirect uri field and click create app\n"
     ]
    },
    {
     "name": "stdin",
     "output_type": "stream",
     "text": [
      "Enter the client ID, it's the line just under Personal use script at the top:  93b74cYiSei-YQ\n",
      "Enter the client secret, it's the line next to secret:  uUqBxVmcwVAqsYZ-fov-3v4srA3QuA\n",
      "Now enter a comma separated list of scopes, or all for all tokens:  all\n"
     ]
    },
    {
     "name": "stdout",
     "output_type": "stream",
     "text": [
      "Now open this url in your browser: https://www.reddit.com/api/v1/authorize?client_id=93b74cYiSei-YQ&duration=permanent&redirect_uri=http%3A%2F%2Flocalhost%3A8080&response_type=code&scope=%2A&state=37296\n",
      "Refresh token: 690585682570-SdC6X2gLOYPl8Y3yclhQCiHn6TcTvQ\n"
     ]
    },
    {
     "ename": "SystemExit",
     "evalue": "0",
     "output_type": "error",
     "traceback": [
      "An exception has occurred, use %tb to see the full traceback.\n",
      "\u001b[0;31mSystemExit\u001b[0m\u001b[0;31m:\u001b[0m 0\n"
     ]
    },
    {
     "name": "stderr",
     "output_type": "stream",
     "text": [
      "/home/luca/miniconda3/lib/python3.8/site-packages/IPython/core/interactiveshell.py:3426: UserWarning: To exit: use 'exit', 'quit', or Ctrl-D.\n",
      "  warn(\"To exit: use 'exit', 'quit', or Ctrl-D.\", stacklevel=1)\n"
     ]
    }
   ],
   "source": [
    "'''\n",
    "Code taken from praw documentation to initiate program to obtain refresh token for Reddit API\n",
    "authorisation. This is necessary to avoid using personal username and password for\n",
    "authentication.\n",
    "'''\n",
    "def receive_connection():\n",
    "    \"\"\"Wait for and then return a connected socket..\n",
    "\n",
    "    Opens a TCP connection on port 8080, and waits for a single client.\n",
    "\n",
    "    \"\"\"\n",
    "    server = socket.socket(socket.AF_INET, socket.SOCK_STREAM)\n",
    "    server.setsockopt(socket.SOL_SOCKET, socket.SO_REUSEADDR, 1)\n",
    "    server.bind((\"localhost\", 8080))\n",
    "    server.listen(1)\n",
    "    client = server.accept()[0]\n",
    "    server.close()\n",
    "    return client\n",
    "\n",
    "\n",
    "def send_message(client, message):\n",
    "    \"\"\"Send message to client and close the connection.\"\"\"\n",
    "    print(message)\n",
    "    client.send(f\"HTTP/1.1 200 OK\\r\\n\\r\\n{message}\".encode(\"utf-8\"))\n",
    "    client.close()\n",
    "\n",
    "\n",
    "def main():\n",
    "    \"\"\"Provide the program's entry point when directly executed.\"\"\"\n",
    "    print(\n",
    "        \"Go here while logged into the account you want to create a token for: \"\n",
    "        \"https://www.reddit.com/prefs/apps/\"\n",
    "    )\n",
    "    print(\n",
    "        \"Click the create an app button. Put something in the name field and select the\"\n",
    "        \" script radio button.\"\n",
    "    )\n",
    "    print(\"Put http://localhost:8080 in the redirect uri field and click create app\")\n",
    "    client_id = input(\n",
    "        \"Enter the client ID, it's the line just under Personal use script at the top: \"\n",
    "    )\n",
    "    client_secret = input(\"Enter the client secret, it's the line next to secret: \")\n",
    "    commaScopes = input(\n",
    "        \"Now enter a comma separated list of scopes, or all for all tokens: \"\n",
    "    )\n",
    "\n",
    "    if commaScopes.lower() == \"all\":\n",
    "        scopes = [\"*\"]\n",
    "    else:\n",
    "        scopes = commaScopes.strip().split(\",\")\n",
    "\n",
    "    reddit = praw.Reddit(\n",
    "        client_id=client_id.strip(),\n",
    "        client_secret=client_secret.strip(),\n",
    "        redirect_uri=\"http://localhost:8080\",\n",
    "        user_agent=\"praw_refresh_token_example\",\n",
    "    )\n",
    "    state = str(random.randint(0, 65000))\n",
    "    url = reddit.auth.url(scopes, state, \"permanent\")\n",
    "    print(f\"Now open this url in your browser: {url}\")\n",
    "    sys.stdout.flush()\n",
    "\n",
    "    client = receive_connection()\n",
    "    data = client.recv(1024).decode(\"utf-8\")\n",
    "    param_tokens = data.split(\" \", 2)[1].split(\"?\", 1)[1].split(\"&\")\n",
    "    params = {\n",
    "        key: value for (key, value) in [token.split(\"=\") for token in param_tokens]\n",
    "    }\n",
    "\n",
    "    if state != params[\"state\"]:\n",
    "        send_message(\n",
    "            client,\n",
    "            f\"State mismatch. Expected: {state} Received: {params['state']}\",\n",
    "        )\n",
    "        return 1\n",
    "    elif \"error\" in params:\n",
    "        send_message(client, params[\"error\"])\n",
    "        return 1\n",
    "\n",
    "    refresh_token = reddit.auth.authorize(params[\"code\"])\n",
    "    send_message(client, f\"Refresh token: {refresh_token}\")\n",
    "    return 0\n",
    "\n",
    "\n",
    "if __name__ == \"__main__\":\n",
    "    sys.exit(main())\n",
    "    "
   ]
  },
  {
   "cell_type": "code",
   "execution_count": 4,
   "metadata": {},
   "outputs": [],
   "source": [
    "reddit = praw.Reddit(client_id = \"93b74cYiSei-YQ\", \n",
    "                                   client_secret = \"uUqBxVmcwVAqsYZ-fov-3v4srA3QuA\",\n",
    "                                  user_agent = \"FakeNewsDetector by u/VertexBanshee\",\n",
    "                                  refresh_token = \"690585682570-SdC6X2gLOYPl8Y3yclhQCiHn6TcTvQ\"\n",
    "                                  )\n",
    "\n",
    "#Authentication credentials used above to get access to Reddit API\n",
    "#Insert generated refresh token from the previous cell into the empty parameter"
   ]
  },
  {
   "cell_type": "code",
   "execution_count": null,
   "metadata": {},
   "outputs": [],
   "source": [
    "print(reddit.user.me()) #check that the user login worked correctly"
   ]
  },
  {
   "cell_type": "code",
   "execution_count": 5,
   "metadata": {},
   "outputs": [],
   "source": [
    "subreddit = reddit.subreddit(\"ukpolitics\") #Set the subreddit of choice to stream Reddit post submissions. "
   ]
  },
  {
   "cell_type": "code",
   "execution_count": 6,
   "metadata": {},
   "outputs": [],
   "source": [
    "x = subreddit.new(limit=50)"
   ]
  },
  {
   "cell_type": "code",
   "execution_count": 7,
   "metadata": {},
   "outputs": [],
   "source": [
    "title_list = []"
   ]
  },
  {
   "cell_type": "code",
   "execution_count": 8,
   "metadata": {},
   "outputs": [],
   "source": [
    "def streamer():\n",
    "\n",
    "    for submission in x:\n",
    "        title_list.append(submission.title)\n",
    "        print(submission.title)"
   ]
  },
  {
   "cell_type": "code",
   "execution_count": 9,
   "metadata": {},
   "outputs": [
    {
     "name": "stdout",
     "output_type": "stream",
     "text": [
      "The empty Nightingale hospitals show the cost of putting buildings before people\n",
      "63% of Welsh people now also support a one-size-fits-all COVID approach for all of the UK. Only 35% felt this way back in October\n",
      "Kenny MacAskill: SNP MP defends 200-mile trips between constituency and second home\n",
      "EU says AstraZeneca must supply Covid vaccines from its UK plants\n",
      "Nicola Sturgeon has stressed she is “not ecstatic” about Boris Johnson visiting Scotland during a global pandemic – warning nobody should be travelling unless it is essential.\n",
      "For each of the following party leaders, do you think they are doing very well in their job well or badly? Johnson: Well: 48% (+2) Badly: 47% (-2). NET: +1. Starmer: Well: 50% (+9) Badly: 36% (=) NET: +14. Via DeltaPollUK, 21-23 January, changes since 26-30 December.\n",
      "Home Rule for London\n",
      "The Times view on Britain’s Covid-related death rate: 100,000 and Counting\n",
      "Britain couldn’t be Singapore even if we tried\n",
      "Plan for leaving lockdown to be published week commencing 22nd of February\n",
      "COVID-19: UK introduces mandatory hotel quarantine for travellers returning from 'red list' countries | Politics News\n",
      "England's schools will not reopen before March\n",
      "COVID-19: Schools will not reopen for all pupils after February half-term, PM confirms\n",
      "Brexit Britain set for '50 years' of non-stop negotiations with EU to improve deal\n",
      "TUV's Allister issues unionist rallying call to 'disrupt' Brexit protocol and 'prevent Union's destruction'\n",
      "Covid-19: PM to speak as tougher quarantine control expected\n",
      "Climate Change Doesn’t Have Time for Broken Two-Party Politics\n",
      "Covid: Police deal with 'incident' near Wrexham vaccine plant\n",
      "HS2 protesters dig 100ft tunnel under London park\n",
      "Here are five ways the government could have avoided 100,000 Covid deaths\n",
      "EDF announces delay, price rise for UK nuclear plant\n",
      "Contactless limit could rise to £100\n",
      "Discontent growing over Northern Ireland protocol, police warn\n",
      "Plan B for independence is a road to nowhere\n",
      "Britain’s First Sea Lord prepares to embark on year in spotlight\n",
      "AstraZeneca cancels steering board meeting with EU\n",
      "EU and BioNTech/Pfizer clash over reduced vaccine deliveries\n",
      "UK aid cuts of up to 70% a 'gut punch' to world's poorest, experts say\n",
      "Labour market overview, UK - Office for National Statistics\n",
      "SAGE Advisor delivers her 'half term report' on how the UK Government has handled the Covid crisis\n",
      "Lewis Goodall (@lewis_goodall): New figures from the CQC show Covid deaths in care homes in England numbered 1705 in the week: That’s up 32% on the week before. Up 157% on the figures from the start of the month. Worrying.\n",
      "Britain’s missing migrant workers are distorting the economic picture\n",
      "UK government backs birth control for grey squirrels\n",
      "'Monumental mistakes' made over handling of Covid, says Labour. Shadow health secretary says ‘litany of errors’ led to UK having fifth highest death toll in world.\n",
      "Airline bosses urge PM not to impose blanket hotel quarantine policy\n",
      "Majority of Calais refugees ‘think Brexit will make getting UK asylum easier’\n",
      "Covid lies cost lives - we have a duty to clamp down on them\n",
      "Covid-19:Poor decisions to blame for UK death toll, scientists say\n",
      "Paul Thomas - The EU vaccines row [cartoon]\n",
      "EU not worth having without free movement: say 74% of Europeans in Oxford survey\n",
      "To escape the lockdown nightmare, put Covid into proportion\n",
      "From Rolls Royce to Skoda: How the pandemic has exposed Britain’s failed ‘regulatory state’\n",
      "Brexit and Covid play part in shifting attitudes to independence\n",
      "Brexit: Lough Neagh eels can't be sold in Britain\n",
      "The Great British Vaccine Trade Is Here to Stay. There are sound reasons why sterling will continue to appreciate against the euro.\n",
      "After Brexit, the French urge Europe to rethink the language of Shakespeare.\n",
      "Sausages on the Silk Road\n",
      "Boris Johnson appeals to EU not to restrict vaccine movements in row over supplies of AstraZeneca jab\n",
      "Return to 0.7 per cent aid pledge will have to wait for recovery from Covid, Dominic Raab warns MPs\n",
      "Scot Goes Pop / Survation poll: Nightmare on Ross Street as Tories face third place in Holyrood election - while pro-independence parties are on course to win 62% of seats\n",
      "None\n"
     ]
    }
   ],
   "source": [
    "print(streamer())"
   ]
  },
  {
   "cell_type": "code",
   "execution_count": null,
   "metadata": {},
   "outputs": [],
   "source": []
  }
 ],
 "metadata": {
  "kernelspec": {
   "display_name": "Python 3",
   "language": "python",
   "name": "python3"
  },
  "language_info": {
   "codemirror_mode": {
    "name": "ipython",
    "version": 3
   },
   "file_extension": ".py",
   "mimetype": "text/x-python",
   "name": "python",
   "nbconvert_exporter": "python",
   "pygments_lexer": "ipython3",
   "version": "3.8.5"
  }
 },
 "nbformat": 4,
 "nbformat_minor": 4
}

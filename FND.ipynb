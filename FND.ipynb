{
 "cells": [
  {
   "cell_type": "markdown",
   "metadata": {},
   "source": [
    "### Reddit Fake News Detector Project"
   ]
  },
  {
   "cell_type": "markdown",
   "metadata": {},
   "source": [
    "This project is another personal project of mine."
   ]
  },
  {
   "cell_type": "code",
   "execution_count": 1,
   "metadata": {},
   "outputs": [
    {
     "data": {
      "text/plain": [
       "'\\n#pip install praw \\n\\nNOTE: We install praw specifically using pip here because Conda version is\\noutdated. A seperate Conda environment was created to avoid package management issues.\\n'"
      ]
     },
     "execution_count": 1,
     "metadata": {},
     "output_type": "execute_result"
    }
   ],
   "source": [
    "'''\n",
    "#pip install praw \n",
    "\n",
    "NOTE: We install praw specifically using pip here because Conda version is\n",
    "outdated. A seperate Conda environment was created to avoid package management issues.\n",
    "'''"
   ]
  },
  {
   "cell_type": "code",
   "execution_count": 2,
   "metadata": {},
   "outputs": [],
   "source": [
    "import random #import these packages for the following praw program in the next cell\n",
    "import socket\n",
    "import sys\n",
    "\n",
    "import time #import time to assign a counter to the incoming subreddit stream\n",
    "import praw as praw #import praw package for streaming content from Reddit"
   ]
  },
  {
   "cell_type": "code",
   "execution_count": 3,
   "metadata": {},
   "outputs": [
    {
     "name": "stdout",
     "output_type": "stream",
     "text": [
      "Go here while logged into the account you want to create a token for: https://www.reddit.com/prefs/apps/\n",
      "Click the create an app button. Put something in the name field and select the script radio button.\n",
      "Put http://localhost:8080 in the redirect uri field and click create app\n"
     ]
    },
    {
     "name": "stdin",
     "output_type": "stream",
     "text": [
      "Enter the client ID, it's the line just under Personal use script at the top:  93b74cYiSei-YQ\n",
      "Enter the client secret, it's the line next to secret:  \tuUqBxVmcwVAqsYZ-fov-3v4srA3QuA\n",
      "Now enter a comma separated list of scopes, or all for all tokens:  all\n"
     ]
    },
    {
     "name": "stdout",
     "output_type": "stream",
     "text": [
      "Now open this url in your browser: https://www.reddit.com/api/v1/authorize?client_id=93b74cYiSei-YQ&duration=permanent&redirect_uri=http%3A%2F%2Flocalhost%3A8080&response_type=code&scope=%2A&state=2593\n",
      "Refresh token: 690585682570-mi80tyt-fOY5memzMeEaSJeTcnBtjA\n"
     ]
    },
    {
     "ename": "SystemExit",
     "evalue": "0",
     "output_type": "error",
     "traceback": [
      "An exception has occurred, use %tb to see the full traceback.\n",
      "\u001b[0;31mSystemExit\u001b[0m\u001b[0;31m:\u001b[0m 0\n"
     ]
    },
    {
     "name": "stderr",
     "output_type": "stream",
     "text": [
      "/home/luca/miniconda3/lib/python3.8/site-packages/IPython/core/interactiveshell.py:3426: UserWarning: To exit: use 'exit', 'quit', or Ctrl-D.\n",
      "  warn(\"To exit: use 'exit', 'quit', or Ctrl-D.\", stacklevel=1)\n"
     ]
    }
   ],
   "source": [
    "'''\n",
    "Code taken from praw documentation to initiate program to obtain refresh token for Reddit API\n",
    "authorisation. This is necessary to avoid using personal username and password for\n",
    "authentication.\n",
    "'''\n",
    "def receive_connection():\n",
    "    \"\"\"Wait for and then return a connected socket..\n",
    "\n",
    "    Opens a TCP connection on port 8080, and waits for a single client.\n",
    "\n",
    "    \"\"\"\n",
    "    server = socket.socket(socket.AF_INET, socket.SOCK_STREAM)\n",
    "    server.setsockopt(socket.SOL_SOCKET, socket.SO_REUSEADDR, 1)\n",
    "    server.bind((\"localhost\", 8080))\n",
    "    server.listen(1)\n",
    "    client = server.accept()[0]\n",
    "    server.close()\n",
    "    return client\n",
    "\n",
    "\n",
    "def send_message(client, message):\n",
    "    \"\"\"Send message to client and close the connection.\"\"\"\n",
    "    print(message)\n",
    "    client.send(f\"HTTP/1.1 200 OK\\r\\n\\r\\n{message}\".encode(\"utf-8\"))\n",
    "    client.close()\n",
    "\n",
    "\n",
    "def main():\n",
    "    \"\"\"Provide the program's entry point when directly executed.\"\"\"\n",
    "    print(\n",
    "        \"Go here while logged into the account you want to create a token for: \"\n",
    "        \"https://www.reddit.com/prefs/apps/\"\n",
    "    )\n",
    "    print(\n",
    "        \"Click the create an app button. Put something in the name field and select the\"\n",
    "        \" script radio button.\"\n",
    "    )\n",
    "    print(\"Put http://localhost:8080 in the redirect uri field and click create app\")\n",
    "    client_id = input(\n",
    "        \"Enter the client ID, it's the line just under Personal use script at the top: \"\n",
    "    )\n",
    "    client_secret = input(\"Enter the client secret, it's the line next to secret: \")\n",
    "    commaScopes = input(\n",
    "        \"Now enter a comma separated list of scopes, or all for all tokens: \"\n",
    "    )\n",
    "\n",
    "    if commaScopes.lower() == \"all\":\n",
    "        scopes = [\"*\"]\n",
    "    else:\n",
    "        scopes = commaScopes.strip().split(\",\")\n",
    "\n",
    "    reddit = praw.Reddit(\n",
    "        client_id=client_id.strip(),\n",
    "        client_secret=client_secret.strip(),\n",
    "        redirect_uri=\"http://localhost:8080\",\n",
    "        user_agent=\"praw_refresh_token_example\",\n",
    "    )\n",
    "    state = str(random.randint(0, 65000))\n",
    "    url = reddit.auth.url(scopes, state, \"permanent\")\n",
    "    print(f\"Now open this url in your browser: {url}\")\n",
    "    sys.stdout.flush()\n",
    "\n",
    "    client = receive_connection()\n",
    "    data = client.recv(1024).decode(\"utf-8\")\n",
    "    param_tokens = data.split(\" \", 2)[1].split(\"?\", 1)[1].split(\"&\")\n",
    "    params = {\n",
    "        key: value for (key, value) in [token.split(\"=\") for token in param_tokens]\n",
    "    }\n",
    "\n",
    "    if state != params[\"state\"]:\n",
    "        send_message(\n",
    "            client,\n",
    "            f\"State mismatch. Expected: {state} Received: {params['state']}\",\n",
    "        )\n",
    "        return 1\n",
    "    elif \"error\" in params:\n",
    "        send_message(client, params[\"error\"])\n",
    "        return 1\n",
    "\n",
    "    refresh_token = reddit.auth.authorize(params[\"code\"])\n",
    "    send_message(client, f\"Refresh token: {refresh_token}\")\n",
    "    return 0\n",
    "\n",
    "\n",
    "if __name__ == \"__main__\":\n",
    "    sys.exit(main())\n",
    "    "
   ]
  },
  {
   "cell_type": "code",
   "execution_count": 4,
   "metadata": {},
   "outputs": [],
   "source": [
    "reddit = praw.Reddit(client_id = \"93b74cYiSei-YQ\", \n",
    "                                   client_secret = \"uUqBxVmcwVAqsYZ-fov-3v4srA3QuA\",\n",
    "                                  user_agent = \"FakeNewsDetector by u/VertexBanshee\",\n",
    "                                  refresh_token = \"690585682570-mi80tyt-fOY5memzMeEaSJeTcnBtjA\"\n",
    "                                  )\n",
    "\n",
    "#Authentication credentials used above to get access to Reddit API\n",
    "#Insert generated refresh token from the previous cell into the empty parameter"
   ]
  },
  {
   "cell_type": "code",
   "execution_count": null,
   "metadata": {},
   "outputs": [],
   "source": [
    "print(reddit.user.me()) #check that the user login worked correctly"
   ]
  },
  {
   "cell_type": "code",
   "execution_count": 5,
   "metadata": {},
   "outputs": [],
   "source": [
    "subreddit = reddit.subreddit(\"ukpolitics\") #Set the subreddit of choice to stream Reddit post submissions. "
   ]
  },
  {
   "cell_type": "code",
   "execution_count": 13,
   "metadata": {},
   "outputs": [],
   "source": [
    "streamer = subreddit.stream.submissions()"
   ]
  },
  {
   "cell_type": "code",
   "execution_count": 12,
   "metadata": {},
   "outputs": [],
   "source": [
    "timeout = time.time() + 5"
   ]
  },
  {
   "cell_type": "code",
   "execution_count": null,
   "metadata": {},
   "outputs": [
    {
     "name": "stdout",
     "output_type": "stream",
     "text": [
      "The failure of Welsh devolution\n",
      "SNP plan to deliver referendum without UK consent is 'deluded and pointless', experts say\n",
      "Britain faces three-month 'halfway house' lockdown after Easter as over-50s wait for second vaccine\n",
      "The Papers - 25/01/2021\n",
      "Cabinet divided on how tight to make new UK quarantine rules || Split over blanket or targeted curbs on international arrivals to halt spread of Covid variants\n",
      "Government quietly changes law to give councils lockdown powers until July 17 this year\n",
      "Covid Memorial Garden - Ben Jennings\n",
      "Is Scottish independence even worth it?\n",
      "Daily Megathread - 25/01/2021\n",
      "Boohoo buys Debenhams brand and website for £55m - BBC News\n",
      "Tory MPs demand 'clarity' on school reopenings\n",
      "Gordon Brown: UK could become 'failed state' without reform\n",
      "Kickstart: Most job roles for youths not yet filled\n",
      "Over 70s vaccination begins in Scotland, but blue envelopes delayed.\n",
      "Former UK PM Brown sees no democratic mandate for Scottish independence vote\n",
      "Therese Coffey blames public's age and weight for death toll\n",
      "Rail workers ‘should be a jab priority’\n",
      "Rail industry wants 30-year investment pipeline\n",
      "DWP Kickstart gateway firms approved by algorithm, with no trading history or based abroad\n",
      "Ian McConnell: Tory post-Brexit agenda starts to crystallise in alarming ways: Opinion\n",
      "Covid: 'Why I'm breaking lockdown rules'\n",
      "Here are all the laws MPs are voting on this week, explained in plain English!\n",
      "COVID-19: New data reveals jobs with highest rates of death from coronavirus | UK News\n",
      "NEW: @BorisJohnson tells broadcast pool he is 'looking at the potential of relaxing some measures' before mid-February.\n",
      "Labour asks CPS to investigate Tory London mayor candidate over leaflets\n",
      "Coronavirus: Labour leader Sir Keir Starmer self-isolates for third time\n",
      "Funding approved to reopen old rail lines\n",
      "Someone you loved: how British pop could fade out in Europe\n",
      "Scottish Tories urge Labour and the Lib Dems to boycott second independence referendum\n",
      "UK detects 77 cases of South African COVID variant, nine of Brazilian\n",
      "Westminster voting intention: CON: 41% (-2) LAB: 39% (+1) LDEM: 7% (+3) via @DeltapollUK , 21 - 23 Jan Chgs. w/ 30 Dec\n",
      "When Covid is over, what buildings do we actually want to see in Britain's cities?\n",
      "Hull proposed for Europe’s first rare earths processing plant\n",
      "Douglas Ross tells unionists to 'boycott any SNP wildcat referendum'\n",
      "\"We get a lot of vermin round here\" - Patel's Police Powers Bill and the hard-won right to roam\n",
      "The past is history, the future a mystery – why Jenrick's statue protections lack foresight\n",
      "Covid: Ministers 'actively working on' quarantine hotels\n",
      "Britons strongly support both current and possible future coronavirus travel restrictions: Proof of negative test - 92% 10 days hotel quarantine - 87% GPS trackers for arrivals - 70% Banning international flights - 64%\n",
      "Brexit: Winners and Losers\n",
      "UNION PLEA | Boris Johnson set to visit Scotland this week on a rescue mission to save the UK\n",
      "Johnson 'looking at potential of relaxing some lockdown measures' next month\n",
      "Ofgem backs stripping National Grid of electricity oversight || Regulator says independent body would deliver greater value for bill payers and better oversee UK’s emissions target\n",
      "English and Scottish get drunk most often, 25-nation survey finds | Alcohol\n",
      "Four charged over Colston statue damage to be tried in crown court\n",
      "Arlene Foster accuses Boris Johnson of broken promises over Brexit deal\n",
      "Nicola Sturgeon's husband in 'perjury' probe row over Salmond Inquiry evidence\n",
      "The 'invented' free speech crisis\n",
      "Brexit butchers EU trade for Scottish beef producers\n",
      "Flookburgh fishermen hit by Brexit after told they cannot export to France for months\n",
      "CIPS: Brexit and COVID-19 cause chaos at EU-UK customs\n",
      "'We've got kids starving!' Furious Rejoiners launch campaign to axe 'sick' Brexit festival\n",
      "Scottish independence: Call to ‘boycott’ SNP’s ‘wildcat referendum’ plan\n",
      "Sir Keir Starmer urged to ‘come clean’ about alleged hiring of Israeli ‘cyber spy’\n",
      "Britain to get air combat drones to fly alongside fighters\n",
      "Conservatives: 🇬🇧 We have one of the best records on workers’ rights in the world – often going further than the European Union in many areas – and we are committed to building on this progress.\n",
      "The UK Is A “Long, Long Way” From Lifting Tough Coronavirus Restrictions, Matt Hancock Says\n",
      "Levelling up North and Midlands 'four times harder' after pandemic\n",
      "Drink-drive limit should be cut to revive deterrent, ministers told\n",
      "Pressure mounts on Boris Johnson to reopen schools faster\n",
      "Brexit, batteries and the fate of the British car industry\n",
      "PM will ‘visit Scotland this week in a bid to save the union’\n",
      "Tory minister terminates ‘insulting’ breakfast TV interview with Piers Morgan\n",
      "Michel Barnier tells UK to be 'very careful' in Brexit diplomatic status row\n",
      "Nick Gutteridge: \"Member States have discussed UK refusal to grant EU embassy in London full status. Foreign affairs chief Josep Borrell: 'It's not a friendly signal, the first one UK has sent us immediately after leaving the EU. If things have to continue like this there are no good prospects.'“\n",
      "Mastercard to push up fees for UK purchases from EU\n",
      "The Tory fixation on wokeness is all about division. Labour must build bridges instead\n",
      "Monica Lennon has won the backing of Scotland’s largest trade union in the Labour leadership contest.\n",
      "UK records lowest daily rise in coronavirus cases so far this year\n",
      "As of 25 January, 3,669,658 people have tested positive for COVID-19 in the UK, and 98,531 have died within 28 days of a positive test. As of yesterday, 6,573,570 have received a first dose of vaccine.\n",
      "Boris Johnson to visit Scotland on rescue mission for the UK\n",
      "VacciNATION table (Doses per 100 people) 1st: England (15.3) 2nd: Northern Ireland (12.6) 3rd: Wales (10.8) 4th: Scotland (9.5)\n",
      "Johnson's last-minute bid to save the union can't undo years of neglect | Constitutional reform\n",
      "Anas Sarwar backed by GMB union to be Scottish Labour leader\n",
      "PPE suppliers with political links '10 times more likely to win contracts'\n",
      "Concise summary of the consequences of the UK’s choice to leave the EU, Single Market & Customs Union, plus the benefits of the UK EU cooperation agreement (opens as a PDF)\n",
      "Scottish independence: Boris Johnson responds to potential SNP ‘wildcat referendum’\n",
      "Ex-Brexit Party MEP says Johnson's deal has left her fishing business 'on its knees'\n",
      "Munya and Swarzy in conversation with Keir Starmer Jan 28, 2021 6 PM\n",
      "Coronavirus (COVID-19) related deaths by occupation, England and Wales - Office for National Statistics\n",
      "Covid: Teachers 'not at higher risk' of death than average\n",
      "\"Bliar! Bliar! Iraq's on fire\" - 2004 Respect Party Poster\n",
      "It is not the time for Britain to raise taxes || Chancellor Rishi Sunak’s determination to curb borrowing will harm the economy\n",
      "Building of Brexit border posts faces delays || British ports say funding shortage and Whitehall bureaucracy forcing them to scale back infrastructure plans\n",
      "Brussels warns Britain against downgrading EU ambassador’s status\n",
      "\"Our army is fighting corrupt militarism. Join the National Party which is fighting corrupt politics.\" - 1918 National party Poster\n",
      "BMA calls for 'dialogue' with CMO about cutting 12-week vaccine interval\n",
      "Surrey man charged over 'sex-for-rent' allegations | UK news\n",
      "People who have received Covid vaccinations in the UK - 25th January\n",
      "Nicola Sturgeon under fire over fact Scotland has slowest Covid vaccine rate\n",
      "'Look at the facts': Hancock fires coded warning at MPs calling for lockdown easing\n",
      "Forty-year-old MP says he received leftover dose of Covid vaccine - Brendan Clarke-Smith says he got jab that would have otherwise gone to waste after doing voluntary work at hospital\n",
      "Covid quarantine hotels ‘will take three weeks to be ready’\n",
      "Lotus to build new sports car after £100m vote of confidence in UK. Sports car maker to add 250 jobs and launch new vehicles from its base in Norfolk\n",
      "Daily Megathread - 25/01/2021\n",
      "The mystery of the cladding fund | Scotland\n",
      "Westminster voting intention: CON: 42% (+2) LAB: 37% (-1) LDEM: 8% (-) GRN: 4% (-1) REFUK: 3% (+1) via @RedfieldWilton , 25 Jan Chgs. w/ 18 Jan\n",
      "Would you support a public inquiry to investigate the UK government Covid-19 related restrictions?\n",
      "Owen Jones and Stewart Lee on culture wars, the Telegraph and the BBC\n",
      "Oxford/AstraZeneca vaccine has as little as 8% efficacy among seniors, report claims\n",
      "Forty years on the Gang of Four’s message still rings true | Ed Davey\n"
     ]
    }
   ],
   "source": [
    "#This is a defined function to stream titles from the subreddit\n",
    "for submission in subreddit.stream.submissions():\n",
    "    \n",
    "    print(submission.title) \n",
    "    \n",
    "return(submission)"
   ]
  },
  {
   "cell_type": "code",
   "execution_count": null,
   "metadata": {},
   "outputs": [],
   "source": []
  }
 ],
 "metadata": {
  "kernelspec": {
   "display_name": "Python 3",
   "language": "python",
   "name": "python3"
  },
  "language_info": {
   "codemirror_mode": {
    "name": "ipython",
    "version": 3
   },
   "file_extension": ".py",
   "mimetype": "text/x-python",
   "name": "python",
   "nbconvert_exporter": "python",
   "pygments_lexer": "ipython3",
   "version": "3.8.5"
  }
 },
 "nbformat": 4,
 "nbformat_minor": 4
}

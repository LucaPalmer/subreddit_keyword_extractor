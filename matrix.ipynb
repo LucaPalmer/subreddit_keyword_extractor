{
 "cells": [
  {
   "cell_type": "markdown",
   "id": "distinct-climate",
   "metadata": {},
   "source": [
    "### Reddit Topic Modelling Project"
   ]
  },
  {
   "cell_type": "markdown",
   "id": "equivalent-company",
   "metadata": {},
   "source": [
    "This project is another personal project of mine."
   ]
  },
  {
   "cell_type": "code",
   "execution_count": 14,
   "id": "interesting-packing",
   "metadata": {},
   "outputs": [],
   "source": [
    "#Packages for reading text files into environment \n",
    "import os\n",
    "import pathlib\n",
    "from pathlib import Path\n",
    "#OK!\n",
    "\n",
    "#Packages for creating document-term matrix\n",
    "import pandas as pd \n",
    "import sklearn\n",
    "from sklearn.feature_extraction.text import TfidfVectorizer #(Vectoriser function for creating Document Term Matrix)\n",
    "#OK!"
   ]
  },
  {
   "cell_type": "code",
   "execution_count": 18,
   "id": "monthly-receiver",
   "metadata": {},
   "outputs": [],
   "source": [
    "xdata = Path('').read_text()   #Read corpus text files into environment by passing file path to these functions\n",
    "zdata = Path('').read_text() "
   ]
  },
  {
   "cell_type": "code",
   "execution_count": 27,
   "id": "solar-sound",
   "metadata": {},
   "outputs": [],
   "source": [
    "df = pd.DataFrame({'' : [], '': []}) #Create df by inputting corpus text file variables into pandas"
   ]
  },
  {
   "cell_type": "code",
   "execution_count": 30,
   "id": "breeding-nutrition",
   "metadata": {},
   "outputs": [],
   "source": [
    "vectoriser = TfidfVectorizer() #Create a vectoriser object from sklearn CountVectorizer function."
   ]
  },
  {
   "cell_type": "code",
   "execution_count": 31,
   "id": "horizontal-second",
   "metadata": {},
   "outputs": [],
   "source": [
    "corpusvec = vectoriser.fit_transform(df.iloc[0]) #Create a tf-idf vectorised corpus using your pandas df"
   ]
  },
  {
   "cell_type": "code",
   "execution_count": 35,
   "id": "ideal-passion",
   "metadata": {},
   "outputs": [],
   "source": [
    "corpusdtm = pd.DataFrame(corpusvec.toarray().transpose(), index = vectoriser.get_feature_names()) \n",
    "\n",
    "#Create a document-term matrix by passing vectorised corpus to pandas array transforming,transposing and indexing"
   ]
  },
  {
   "cell_type": "code",
   "execution_count": 37,
   "id": "level-affiliate",
   "metadata": {},
   "outputs": [],
   "source": [
    "corpusdtm.columns = df.columns #Rename columns appropriately"
   ]
  }
 ],
 "metadata": {
  "kernelspec": {
   "display_name": "Python 3",
   "language": "python",
   "name": "python3"
  },
  "language_info": {
   "codemirror_mode": {
    "name": "ipython",
    "version": 3
   },
   "file_extension": ".py",
   "mimetype": "text/x-python",
   "name": "python",
   "nbconvert_exporter": "python",
   "pygments_lexer": "ipython3",
   "version": "3.8.5"
  }
 },
 "nbformat": 4,
 "nbformat_minor": 5
}
